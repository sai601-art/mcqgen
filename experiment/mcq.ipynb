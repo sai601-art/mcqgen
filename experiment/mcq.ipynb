{
 "cells": [
  {
   "cell_type": "code",
   "execution_count": 1,
   "metadata": {},
   "outputs": [],
   "source": [
    "import os\n",
    "import json\n",
    "import pandas as pd\n",
    "import traceback"
   ]
  },
  {
   "cell_type": "code",
   "execution_count": 6,
   "metadata": {},
   "outputs": [],
   "source": [
    "from langchain.chat_models import ChatOpenAI"
   ]
  },
  {
   "cell_type": "code",
   "execution_count": null,
   "metadata": {},
   "outputs": [],
   "source": [
    "llm=ChatOpenAI(openai_api_key=\"\",\n",
    "               model=\"gpt-3.5-turbo\",\n",
    "               azure)"
   ]
  },
  {
   "cell_type": "markdown",
   "metadata": {},
   "source": [
    "chat = ChatOpenAI(\n",
    "    openai_api_key=\"YOUR_AZURE_OPENAI_API_KEY\",\n",
    "    model=\"gpt-35-turbo\",  # or another model you're using, such as gpt-4\n",
    "    azure_openai_api_base=\"https://YOUR_RESOURCE_NAME.openai.azure.com/\",\n",
    "    azure_openai_api_version=\"2023-03-15-preview\",  # Use the API version you're using\n",
    "    azure_openai_deployment_name=\"YOUR_DEPLOYMENT_NAME\"\n",
    ")\n"
   ]
  },
  {
   "cell_type": "markdown",
   "metadata": {},
   "source": []
  }
 ],
 "metadata": {
  "kernelspec": {
   "display_name": "vir3",
   "language": "python",
   "name": "python3"
  },
  "language_info": {
   "codemirror_mode": {
    "name": "ipython",
    "version": 3
   },
   "file_extension": ".py",
   "mimetype": "text/x-python",
   "name": "python",
   "nbconvert_exporter": "python",
   "pygments_lexer": "ipython3",
   "version": "3.9.6"
  }
 },
 "nbformat": 4,
 "nbformat_minor": 2
}
